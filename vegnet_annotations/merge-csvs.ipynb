{
 "cells": [
  {
   "cell_type": "code",
   "execution_count": 13,
   "metadata": {},
   "outputs": [
    {
     "name": "stdout",
     "output_type": "stream",
     "text": [
      "Merged and shuffled 3 CSV files into ./vegnet-annots.csv.\n"
     ]
    }
   ],
   "source": [
    "import csv\n",
    "import os\n",
    "import random\n",
    "\n",
    "def merge_and_shuffle_csv_files(input_folder, output_file):\n",
    "    # Get a list of all CSV files in the input folder\n",
    "    csv_files = [file for file in os.listdir(input_folder) if file.endswith('.csv')]\n",
    "\n",
    "    # Check if there are any CSV files\n",
    "    if not csv_files:\n",
    "        print(\"No CSV files found in the input folder.\")\n",
    "        return\n",
    "\n",
    "    # Open the output CSV file for writing\n",
    "    with open(output_file, 'w', newline='') as output_csv:\n",
    "        # Create a CSV writer object\n",
    "        csv_writer = csv.writer(output_csv)\n",
    "\n",
    "        # Iterate over each CSV file and append its rows to the output file\n",
    "        all_rows = []\n",
    "        for csv_file in csv_files:\n",
    "            with open(os.path.join(input_folder, csv_file), 'r') as input_file:\n",
    "                # Read all rows from the input file\n",
    "                csv_reader = csv.reader(input_file)\n",
    "                rows = list(csv_reader)\n",
    "                all_rows.extend(rows)\n",
    "\n",
    "        # Shuffle the combined rows randomly\n",
    "        random.shuffle(all_rows)\n",
    "\n",
    "        # Write the shuffled rows to the output file\n",
    "        csv_writer.writerows(all_rows)\n",
    "\n",
    "    print(f'Merged and shuffled {len(csv_files)} CSV files into {output_file}.')\n",
    "\n",
    "# Example usage:\n",
    "input_folder = './separate_annots/'\n",
    "output_file = './vegnet-annots.csv'\n",
    "merge_and_shuffle_csv_files(input_folder, output_file)\n"
   ]
  }
 ],
 "metadata": {
  "kernelspec": {
   "display_name": ".venv",
   "language": "python",
   "name": "python3"
  },
  "language_info": {
   "codemirror_mode": {
    "name": "ipython",
    "version": 3
   },
   "file_extension": ".py",
   "mimetype": "text/x-python",
   "name": "python",
   "nbconvert_exporter": "python",
   "pygments_lexer": "ipython3",
   "version": "3.11.4"
  }
 },
 "nbformat": 4,
 "nbformat_minor": 2
}
