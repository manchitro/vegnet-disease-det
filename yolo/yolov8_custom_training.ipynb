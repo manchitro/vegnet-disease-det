{
  "cells": [
    {
      "cell_type": "markdown",
      "metadata": {
        "id": "SRXQH_20gqeO"
      },
      "source": [
        "# Creating train-val split\n"
      ]
    },
    {
      "cell_type": "code",
      "execution_count": 1,
      "metadata": {
        "colab": {
          "base_uri": "https://localhost:8080/"
        },
        "id": "7s5w4e8igLvA",
        "outputId": "d98e86f8-96d3-4d1a-888f-87a0dc2f1235"
      },
      "outputs": [
        {
          "name": "stdout",
          "output_type": "stream",
          "text": [
            "\n",
            "\u001b[1m[\u001b[0m\u001b[34;49mnotice\u001b[0m\u001b[1;39;49m]\u001b[0m\u001b[39;49m A new release of pip is available: \u001b[0m\u001b[31;49m23.2.1\u001b[0m\u001b[39;49m -> \u001b[0m\u001b[32;49m23.3.1\u001b[0m\n",
            "\u001b[1m[\u001b[0m\u001b[34;49mnotice\u001b[0m\u001b[1;39;49m]\u001b[0m\u001b[39;49m To update, run: \u001b[0m\u001b[32;49mpip install --upgrade pip\u001b[0m\n",
            "\n",
            "\u001b[1m[\u001b[0m\u001b[34;49mnotice\u001b[0m\u001b[1;39;49m]\u001b[0m\u001b[39;49m A new release of pip is available: \u001b[0m\u001b[31;49m23.2.1\u001b[0m\u001b[39;49m -> \u001b[0m\u001b[32;49m23.3.1\u001b[0m\n",
            "\u001b[1m[\u001b[0m\u001b[34;49mnotice\u001b[0m\u001b[1;39;49m]\u001b[0m\u001b[39;49m To update, run: \u001b[0m\u001b[32;49mpip install --upgrade pip\u001b[0m\n",
            "\n",
            "\u001b[1m[\u001b[0m\u001b[34;49mnotice\u001b[0m\u001b[1;39;49m]\u001b[0m\u001b[39;49m A new release of pip is available: \u001b[0m\u001b[31;49m23.2.1\u001b[0m\u001b[39;49m -> \u001b[0m\u001b[32;49m23.3.1\u001b[0m\n",
            "\u001b[1m[\u001b[0m\u001b[34;49mnotice\u001b[0m\u001b[1;39;49m]\u001b[0m\u001b[39;49m To update, run: \u001b[0m\u001b[32;49mpip install --upgrade pip\u001b[0m\n"
          ]
        }
      ],
      "source": [
        "## importing required libraries\n",
        "import os\n",
        "import shutil\n",
        "import random\n",
        "\n",
        "!pip install ultralytics --quiet\n",
        "!pip install tqdm --upgrade --quiet\n",
        "from tqdm.notebook import tqdm"
      ]
    },
    {
      "cell_type": "code",
      "execution_count": null,
      "metadata": {
        "id": "HOTmdh2Mg1j6"
      },
      "outputs": [],
      "source": [
        "print(\"pwd: \", os.getcwd())\n",
        "train_path_img = \"../vegnet_images/train/\"\n",
        "train_path_label = \"../vegnet_annotations/vegnet-annots-train-updated.csv\"\n",
        "val_path_img = \"../vegnet_images/val/\"\n",
        "val_path_label = \"../vegnet_annotations/vegnet-annots-val-updated.csv\"\n",
        "test_path = \"../vegnet_images/vis_test_val\""
      ]
    },
    {
      "cell_type": "code",
      "execution_count": null,
      "metadata": {
        "colab": {
          "base_uri": "https://localhost:8080/",
          "height": 168,
          "referenced_widgets": [
            "c38599454bbf46c284d2178c2b68ceae",
            "d8c66eb856f14b739e20674e13e875f6",
            "d46aa2324a294f87af12554782930b61",
            "9c1c7452c51549e0b628a9384bf8fb70",
            "68032b6b2c23415f9ef24bcb88e830f5",
            "40ad9f58a2484a2bb4dc08a160b3798d",
            "c7c806f71b57436a896584369ef4cd04",
            "98bfacd3cba549b8b4649149427b6fa5",
            "ef1344eba2a747efb4b0f7a2a9de0c5a",
            "0a93342ffcbe4165bb0c877ebe21be95",
            "aa36cc1b3c5b4b73b301231021dbe433",
            "ad93ed404c5547829bd76b0719c13e1a",
            "c23655c8106f4dadb965d51e9aabbf82",
            "2902efe0a2b444ea80d94bdee7679ebd",
            "f67ee2ce7de544ffac158d2374dd4341",
            "70e426ffb395402ebd54a61dfcfc84c0",
            "5d8ba823187a4fb7bf30b1d5600427ed",
            "f038e2324de24e808a66a8bcfac38938",
            "ad2da6e9fad547258e9c4c42ece1a931",
            "b2e899109ad848349cc7b6021c318ccd",
            "8c05b31f6183473ba0359f381f005e3b",
            "9cbe155f6f7c46998a18f19548f82699"
          ]
        },
        "id": "ADx6NEpng6jo",
        "outputId": "d393c9ff-3eb1-4414-d8d4-5bfdb38c1cf2"
      },
      "outputs": [],
      "source": [
        "\"\"\"\n",
        "Split the dataset into train and test and creates the train.txt and test.tx with\n",
        "the respective path of the images in each folder\n",
        "\"\"\"\n",
        "\n",
        "\n",
        "def train_test_split(path, neg_path=None, split=0.2):\n",
        "    print(\"------ PROCESS STARTED -------\")\n",
        "\n",
        "    files = list(\n",
        "        set([name[:-4] for name in os.listdir(path)])\n",
        "    )  ## removing duplicate names i.e. counting only number of images\n",
        "\n",
        "    print(f\"--- This folder has a total number of {len(files)} images---\")\n",
        "    random.seed(42)\n",
        "    random.shuffle(files)\n",
        "\n",
        "    test_size = int(len(files) * split)\n",
        "    train_size = len(files) - test_size\n",
        "\n",
        "    ## creating required directories\n",
        "\n",
        "    os.makedirs(train_path_img, exist_ok=True)\n",
        "    os.makedirs(train_path_label, exist_ok=True)\n",
        "    os.makedirs(val_path_img, exist_ok=True)\n",
        "    os.makedirs(val_path_label, exist_ok=True)\n",
        "\n",
        "    ### ----------- copying images to train folder\n",
        "    for filex in tqdm(files[:train_size]):\n",
        "        if filex == \"classes\":\n",
        "            continue\n",
        "        shutil.copy2(path + filex + \".jpg\", f\"{train_path_img}/\" + filex + \".jpg\")\n",
        "        shutil.copy2(path + filex + \".txt\", f\"{train_path_label}/\" + filex + \".txt\")\n",
        "\n",
        "    print(\n",
        "        f\"------ Training data created with 80% split {len(files[:train_size])} images -------\"\n",
        "    )\n",
        "\n",
        "    if neg_path:\n",
        "        neg_images = list(\n",
        "            set([name[:-4] for name in os.listdir(neg_path)])\n",
        "        )  ## removing duplicate names i.e. counting only number of images\n",
        "        for filex in tqdm(neg_images):\n",
        "            shutil.copy2(\n",
        "                neg_path + filex + \".jpg\", f\"{train_path_img}/\" + filex + \".jpg\"\n",
        "            )\n",
        "\n",
        "        print(\n",
        "            f\"------ Total  {len(neg_images)} negative images added to the training data -------\"\n",
        "        )\n",
        "\n",
        "        print(\n",
        "            f\"------ TOTAL Training data created with {len(files[:train_size]) + len(neg_images)} images -------\"\n",
        "        )\n",
        "\n",
        "    ### copytin images to validation folder\n",
        "    for filex in tqdm(files[train_size:]):\n",
        "        if filex == \"classes\":\n",
        "            continue\n",
        "        # print(\"running\")\n",
        "        shutil.copy2(path + filex + \".jpg\", f\"{val_path_img}/\" + filex + \".jpg\")\n",
        "        shutil.copy2(path + filex + \".txt\", f\"{val_path_label}/\" + filex + \".txt\")\n",
        "\n",
        "    print(\n",
        "        f\"------ Testing data created with a total of {len(files[train_size:])} images ----------\"\n",
        "    )\n",
        "\n",
        "    print(\"------ TASK COMPLETED -------\")\n",
        "\n",
        "\n",
        "## spliting the data into train-test and creating train.txt and test.txt files\n",
        "# train_test_split('/content/drive/MyDrive/custom_notebooks/yolo_data/')\n",
        "\n",
        "### for label_tag\n",
        "# train_test_split('/content/drive/MyDrive/yolov8/data/') ### without negative images\n",
        "# train_test_split('./data/','./negative_images/') ### if you want to feed negative images"
      ]
    },
    {
      "cell_type": "code",
      "execution_count": null,
      "metadata": {
        "colab": {
          "base_uri": "https://localhost:8080/"
        },
        "id": "udzAp2TzhSwZ",
        "outputId": "13983955-cbb3-4885-c553-3cd8338375fb"
      },
      "outputs": [],
      "source": [
        "import ultralytics\n",
        "ultralytics.checks()"
      ]
    },
    {
      "cell_type": "markdown",
      "metadata": {
        "id": "n5bwE3zckX3i"
      },
      "source": [
        "## Training\n"
      ]
    },
    {
      "cell_type": "code",
      "execution_count": 6,
      "metadata": {
        "colab": {
          "base_uri": "https://localhost:8080/"
        },
        "id": "p4Eng64Fj1SJ",
        "outputId": "1c578680-7526-4f36-cf1d-1510db156cb1"
      },
      "outputs": [
        {
          "name": "stdout",
          "output_type": "stream",
          "text": [
            "New https://pypi.org/project/ultralytics/8.0.220 available 😃 Update with 'pip install -U ultralytics'\n",
            "Ultralytics YOLOv8.0.218 🚀 Python-3.11.4 torch-2.1.0+cu121 CUDA:0 (NVIDIA GeForce GTX 1650 with Max-Q Design, 3904MiB)\n",
            "\u001b[34m\u001b[1mengine/trainer: \u001b[0mtask=detect, mode=train, model=yolov8s.pt, data=vegnet_yolo.yaml, epochs=100, patience=10, batch=8, imgsz=512, save=True, save_period=5, cache=False, device=0, workers=8, project=../yolo_out, name=vegnet_yolov8s_aug_200_all_cropped, exist_ok=False, pretrained=True, optimizer=Adam, verbose=True, seed=0, deterministic=True, single_cls=False, rect=False, cos_lr=False, close_mosaic=10, resume=False, amp=False, fraction=1.0, profile=False, freeze=None, overlap_mask=True, mask_ratio=4, dropout=0.0, val=True, split=val, save_json=False, save_hybrid=False, conf=None, iou=0.7, max_det=300, half=False, dnn=False, plots=True, source=None, vid_stride=1, stream_buffer=False, visualize=False, augment=False, agnostic_nms=False, classes=None, retina_masks=False, show=True, save_txt=False, save_conf=False, save_crop=False, show_labels=True, show_conf=True, show_boxes=True, line_width=None, format=torchscript, keras=False, optimize=True, int8=False, dynamic=False, simplify=False, opset=None, workspace=4, nms=False, lr0=0.001, lrf=0.01, momentum=0.937, weight_decay=0.0005, warmup_epochs=3.0, warmup_momentum=0.8, warmup_bias_lr=0.1, box=7.5, cls=0.5, dfl=1.5, pose=12.0, kobj=1.0, label_smoothing=0.0, nbs=64, hsv_h=0.015, hsv_s=0.7, hsv_v=0.4, degrees=0.0, translate=0.1, scale=0.5, shear=0.0, perspective=0.0, flipud=0.0, fliplr=0.0, mosaic=1.0, mixup=0.0, copy_paste=0.0, cfg=None, tracker=botsort.yaml, save_dir=../yolo_out/vegnet_yolov8s_aug_200_all_cropped\n",
            "Overriding model.yaml nc=80 with nc=3\n",
            "\n",
            "                   from  n    params  module                                       arguments                     \n",
            "  0                  -1  1       928  ultralytics.nn.modules.conv.Conv             [3, 32, 3, 2]                 \n",
            "  1                  -1  1     18560  ultralytics.nn.modules.conv.Conv             [32, 64, 3, 2]                \n",
            "  2                  -1  1     29056  ultralytics.nn.modules.block.C2f             [64, 64, 1, True]             \n",
            "  3                  -1  1     73984  ultralytics.nn.modules.conv.Conv             [64, 128, 3, 2]               \n",
            "  4                  -1  2    197632  ultralytics.nn.modules.block.C2f             [128, 128, 2, True]           \n",
            "  5                  -1  1    295424  ultralytics.nn.modules.conv.Conv             [128, 256, 3, 2]              \n",
            "  6                  -1  2    788480  ultralytics.nn.modules.block.C2f             [256, 256, 2, True]           \n",
            "  7                  -1  1   1180672  ultralytics.nn.modules.conv.Conv             [256, 512, 3, 2]              \n",
            "  8                  -1  1   1838080  ultralytics.nn.modules.block.C2f             [512, 512, 1, True]           \n",
            "  9                  -1  1    656896  ultralytics.nn.modules.block.SPPF            [512, 512, 5]                 \n",
            " 10                  -1  1         0  torch.nn.modules.upsampling.Upsample         [None, 2, 'nearest']          \n",
            " 11             [-1, 6]  1         0  ultralytics.nn.modules.conv.Concat           [1]                           \n",
            " 12                  -1  1    591360  ultralytics.nn.modules.block.C2f             [768, 256, 1]                 \n",
            " 13                  -1  1         0  torch.nn.modules.upsampling.Upsample         [None, 2, 'nearest']          \n",
            " 14             [-1, 4]  1         0  ultralytics.nn.modules.conv.Concat           [1]                           \n",
            " 15                  -1  1    148224  ultralytics.nn.modules.block.C2f             [384, 128, 1]                 \n",
            " 16                  -1  1    147712  ultralytics.nn.modules.conv.Conv             [128, 128, 3, 2]              \n",
            " 17            [-1, 12]  1         0  ultralytics.nn.modules.conv.Concat           [1]                           \n",
            " 18                  -1  1    493056  ultralytics.nn.modules.block.C2f             [384, 256, 1]                 \n",
            " 19                  -1  1    590336  ultralytics.nn.modules.conv.Conv             [256, 256, 3, 2]              \n",
            " 20             [-1, 9]  1         0  ultralytics.nn.modules.conv.Concat           [1]                           \n",
            " 21                  -1  1   1969152  ultralytics.nn.modules.block.C2f             [768, 512, 1]                 \n",
            " 22        [15, 18, 21]  1   2117209  ultralytics.nn.modules.head.Detect           [3, [128, 256, 512]]          \n",
            "Model summary: 225 layers, 11136761 parameters, 11136745 gradients, 28.7 GFLOPs\n",
            "\n",
            "Transferred 349/355 items from pretrained weights\n",
            "\u001b[34m\u001b[1mTensorBoard: \u001b[0mStart with 'tensorboard --logdir ../yolo_out/vegnet_yolov8s_aug_200_all_cropped', view at http://localhost:6006/\n",
            "Freezing layer 'model.22.dfl.conv.weight'\n",
            "\u001b[34m\u001b[1mtrain: \u001b[0mScanning /home/s/repo/vegnet-disease-det/datasets/vegnet/labels/train.cac\u001b[0m\n",
            "\u001b[34m\u001b[1malbumentations: \u001b[0mBlur(p=0.01, blur_limit=(3, 7)), MedianBlur(p=0.01, blur_limit=(3, 7)), ToGray(p=0.01), CLAHE(p=0.01, clip_limit=(1, 4.0), tile_grid_size=(8, 8))\n",
            "\u001b[34m\u001b[1mval: \u001b[0mScanning /home/s/repo/vegnet-disease-det/datasets/vegnet/labels/val.cache..\u001b[0m\n",
            "Plotting labels to ../yolo_out/vegnet_yolov8s_aug_200_all_cropped/labels.jpg... \n",
            "\u001b[34m\u001b[1moptimizer:\u001b[0m Adam(lr=0.001, momentum=0.937) with parameter groups 57 weight(decay=0.0), 64 weight(decay=0.0005), 63 bias(decay=0.0)\n",
            "Image sizes 512 train, 512 val\n",
            "Using 8 dataloader workers\n",
            "Logging results to \u001b[1m../yolo_out/vegnet_yolov8s_aug_200_all_cropped\u001b[0m\n",
            "Starting training for 100 epochs...\n",
            "\n",
            "      Epoch    GPU_mem   box_loss   cls_loss   dfl_loss  Instances       Size\n",
            "      1/100      2.59G      1.899      2.977      2.021         15        512: 1\n",
            "                 Class     Images  Instances      Box(P          R      mAP50  m\n",
            "                   all         98        188     0.0668     0.0898     0.0423     0.0189\n",
            "\n",
            "      Epoch    GPU_mem   box_loss   cls_loss   dfl_loss  Instances       Size\n",
            "      2/100      2.61G      1.836       2.68      1.989          9        512: 1\n",
            "                 Class     Images  Instances      Box(P          R      mAP50  m\n",
            "                   all         98        188      0.106     0.0969     0.0433     0.0186\n",
            "\n",
            "      Epoch    GPU_mem   box_loss   cls_loss   dfl_loss  Instances       Size\n",
            "      3/100      2.22G      1.843      2.584      1.975          9        512: 1\n",
            "                 Class     Images  Instances      Box(P          R      mAP50  m\n",
            "                   all         98        188       0.22      0.162     0.0927     0.0398\n",
            "\n",
            "      Epoch    GPU_mem   box_loss   cls_loss   dfl_loss  Instances       Size\n",
            "      4/100      2.76G      1.764      2.504      1.917          5        512: 1\n",
            "                 Class     Images  Instances      Box(P          R      mAP50  m\n",
            "                   all         98        188      0.202      0.188      0.111     0.0369\n",
            "\n",
            "      Epoch    GPU_mem   box_loss   cls_loss   dfl_loss  Instances       Size\n",
            "      5/100      2.08G      1.749       2.43      1.922         10        512: 1\n",
            "                 Class     Images  Instances      Box(P          R      mAP50  m\n",
            "                   all         98        188      0.264      0.203      0.145     0.0582\n",
            "\n",
            "      Epoch    GPU_mem   box_loss   cls_loss   dfl_loss  Instances       Size\n",
            "      6/100      2.75G      1.782      2.381      1.954         23        512: 1\n",
            "                 Class     Images  Instances      Box(P          R      mAP50  m\n",
            "                   all         98        188      0.459       0.27      0.215     0.0963\n",
            "\n",
            "      Epoch    GPU_mem   box_loss   cls_loss   dfl_loss  Instances       Size\n",
            "      7/100      2.77G      1.721      2.277      1.876         11        512: 1\n",
            "                 Class     Images  Instances      Box(P          R      mAP50  m\n",
            "                   all         98        188      0.216       0.22      0.115     0.0472\n",
            "\n",
            "      Epoch    GPU_mem   box_loss   cls_loss   dfl_loss  Instances       Size\n",
            "      8/100      2.61G      1.683      2.167      1.835         12        512: 1\n",
            "                 Class     Images  Instances      Box(P          R      mAP50  m\n",
            "                   all         98        188      0.331      0.216      0.138     0.0613\n",
            "\n",
            "      Epoch    GPU_mem   box_loss   cls_loss   dfl_loss  Instances       Size\n",
            "      9/100      2.75G      1.696      2.227      1.876         13        512: 1\n",
            "                 Class     Images  Instances      Box(P          R      mAP50  m\n",
            "                   all         98        188      0.496      0.292      0.246      0.108\n",
            "\n",
            "      Epoch    GPU_mem   box_loss   cls_loss   dfl_loss  Instances       Size\n",
            "     10/100      2.75G      1.638      2.118      1.794         14        512: 1\n",
            "                 Class     Images  Instances      Box(P          R      mAP50  m\n",
            "                   all         98        188      0.388      0.262      0.203     0.0934\n",
            "\n",
            "      Epoch    GPU_mem   box_loss   cls_loss   dfl_loss  Instances       Size\n",
            "     11/100       2.7G       1.66      2.172      1.814          9        512: 1\n",
            "                 Class     Images  Instances      Box(P          R      mAP50  m\n",
            "                   all         98        188      0.304      0.269      0.144     0.0661\n",
            "\n",
            "      Epoch    GPU_mem   box_loss   cls_loss   dfl_loss  Instances       Size\n",
            "     12/100      2.73G      1.581      2.075      1.763          7        512: 1\n",
            "                 Class     Images  Instances      Box(P          R      mAP50  m\n",
            "                   all         98        188       0.25      0.252      0.149     0.0667\n",
            "\n",
            "      Epoch    GPU_mem   box_loss   cls_loss   dfl_loss  Instances       Size\n",
            "     13/100      2.78G      1.575      2.048      1.774          8        512: 1\n",
            "                 Class     Images  Instances      Box(P          R      mAP50  m\n",
            "                   all         98        188      0.502      0.253      0.177     0.0908\n",
            "\n",
            "      Epoch    GPU_mem   box_loss   cls_loss   dfl_loss  Instances       Size\n",
            "     14/100      2.75G      1.573       1.99      1.744         13        512: 1\n",
            "                 Class     Images  Instances      Box(P          R      mAP50  m\n",
            "                   all         98        188      0.411       0.25      0.174     0.0845\n",
            "\n",
            "      Epoch    GPU_mem   box_loss   cls_loss   dfl_loss  Instances       Size\n",
            "     15/100      2.75G      1.532      1.939      1.723          4        512: 1\n",
            "                 Class     Images  Instances      Box(P          R      mAP50  m\n",
            "                   all         98        188      0.485      0.247      0.211      0.103\n",
            "\n",
            "      Epoch    GPU_mem   box_loss   cls_loss   dfl_loss  Instances       Size\n",
            "     16/100      1.98G      1.563      1.955      1.756         15        512: 1\n",
            "                 Class     Images  Instances      Box(P          R      mAP50  m\n",
            "                   all         98        188      0.338       0.28      0.187     0.0945\n",
            "\n",
            "      Epoch    GPU_mem   box_loss   cls_loss   dfl_loss  Instances       Size\n",
            "     17/100       2.9G      1.535      1.928       1.73          3        512: 1\n",
            "                 Class     Images  Instances      Box(P          R      mAP50  m\n",
            "                   all         98        188      0.378      0.243      0.188     0.0878\n",
            "\n",
            "      Epoch    GPU_mem   box_loss   cls_loss   dfl_loss  Instances       Size\n",
            "     18/100      2.88G      1.491      1.883      1.716         16        512: 1\n",
            "                 Class     Images  Instances      Box(P          R      mAP50  m\n",
            "                   all         98        188      0.325      0.307      0.177     0.0874\n",
            "\n",
            "      Epoch    GPU_mem   box_loss   cls_loss   dfl_loss  Instances       Size\n",
            "     19/100      2.78G      1.501      1.853      1.692         10        512: 1\n",
            "                 Class     Images  Instances      Box(P          R      mAP50  m\n",
            "                   all         98        188      0.227      0.399      0.211     0.0993\n",
            "Stopping training early as no improvement observed in last 10 epochs. Best results observed at epoch 9, best model saved as best.pt.\n",
            "To update EarlyStopping(patience=10) pass a new patience value, i.e. `patience=300` or use `patience=0` to disable EarlyStopping.\n",
            "\n",
            "19 epochs completed in 0.353 hours.\n",
            "Optimizer stripped from ../yolo_out/vegnet_yolov8s_aug_200_all_cropped/weights/last.pt, 22.5MB\n",
            "Optimizer stripped from ../yolo_out/vegnet_yolov8s_aug_200_all_cropped/weights/best.pt, 22.5MB\n",
            "\n",
            "Validating ../yolo_out/vegnet_yolov8s_aug_200_all_cropped/weights/best.pt...\n",
            "Ultralytics YOLOv8.0.218 🚀 Python-3.11.4 torch-2.1.0+cu121 CUDA:0 (NVIDIA GeForce GTX 1650 with Max-Q Design, 3904MiB)\n",
            "Model summary (fused): 168 layers, 11126745 parameters, 0 gradients, 28.4 GFLOPs\n",
            "                 Class     Images  Instances      Box(P          R      mAP50  m\n",
            "                   all         98        188      0.496      0.292      0.245      0.108\n",
            "         Downey Mildew         98         83      0.823      0.113      0.165     0.0748\n",
            "             Black Rot         98         47      0.382      0.383       0.32      0.148\n",
            "    Bacterial Spot Rot         98         58      0.282      0.379      0.251      0.102\n",
            "Speed: 0.3ms preprocess, 34.4ms inference, 0.0ms loss, 6.3ms postprocess per image\n",
            "Results saved to \u001b[1m../yolo_out/vegnet_yolov8s_aug_200_all_cropped\u001b[0m\n",
            "💡 Learn more at https://docs.ultralytics.com/modes/train\n"
          ]
        }
      ],
      "source": [
        "# !yolo task=detect mode=train model=yolov8s.pt data=vegnet_yolo.yaml epochs=10 imgsz=512 batch=8 project=../yolo_out name=vegnet_yolov8s_augmented_100\n",
        "!yolo task=detect mode=train model=yolov8s.pt \\\n",
        "    data=\"vegnet_yolo.yaml\" epochs=100 batch=8 imgsz=512 \\\n",
        "        device=0 workers=8 optimizer=Adam pretrained=true \\\n",
        "            val=true plots=true save=True save_period=5\tshow=true optimize=true patience=10 \\\n",
        "                lr0=0.001 lrf=0.01 fliplr=0.0 amp=False name=vegnet_yolov8s_aug_200_all_cropped \\\n",
        "                    project=../yolo_out\n"
      ]
    },
    {
      "cell_type": "markdown",
      "metadata": {
        "id": "xRq4HW-Nopo9"
      },
      "source": [
        "## Inferencing\n"
      ]
    },
    {
      "cell_type": "code",
      "execution_count": 11,
      "metadata": {
        "colab": {
          "base_uri": "https://localhost:8080/"
        },
        "id": "0YYuevqfnyak",
        "outputId": "3184eacc-5999-40b9-8571-aa96922585ab"
      },
      "outputs": [
        {
          "name": "stdout",
          "output_type": "stream",
          "text": [
            "Ultralytics YOLOv8.0.218 🚀 Python-3.11.4 torch-2.1.0+cu121 CUDA:0 (NVIDIA GeForce GTX 1650 with Max-Q Design, 3904MiB)\n",
            "Model summary (fused): 168 layers, 11126745 parameters, 0 gradients, 28.4 GFLOPs\n",
            "\n",
            "image 1/4 /home/s/repo/vegnet-disease-det/yolo/../datasets/vegnet/vis_test_val/Bacterial Spot. (149).jpg: 384x512 3 Bacterial Spot Rots, 62.8ms\n",
            "image 2/4 /home/s/repo/vegnet-disease-det/yolo/../datasets/vegnet/vis_test_val/Black Rot(13).jpeg: 384x512 1 Black Rot, 12.0ms\n",
            "image 3/4 /home/s/repo/vegnet-disease-det/yolo/../datasets/vegnet/vis_test_val/Black Rot(13).jpg: 384x512 1 Black Rot, 12.1ms\n",
            "image 4/4 /home/s/repo/vegnet-disease-det/yolo/../datasets/vegnet/vis_test_val/No disease. (103).jpg: 512x384 (no detections), 56.6ms\n",
            "Speed: 2.1ms preprocess, 35.9ms inference, 2.0ms postprocess per image at shape (1, 3, 512, 384)\n",
            "Results saved to \u001b[1m/home/s/repo/vegnet-disease-det/runs/detect/predict\u001b[0m\n",
            "💡 Learn more at https://docs.ultralytics.com/modes/predict\n"
          ]
        }
      ],
      "source": [
        "!yolo task=detect mode=predict model=../yolo_out/vegnet_yolov8s_original_dataset/weights/best.pt conf=0.55 source=../datasets/vegnet/vis_test_val"
      ]
    },
    {
      "cell_type": "code",
      "execution_count": null,
      "metadata": {
        "id": "yozuGgMMBBWy"
      },
      "outputs": [],
      "source": [
        "!cp -r /content/runs/detect/predict /content/drive/MyDrive/yolov8/output"
      ]
    },
    {
      "cell_type": "markdown",
      "metadata": {
        "id": "jmYPAUhIx9Wz"
      },
      "source": [
        "### inferencing on video\n"
      ]
    },
    {
      "cell_type": "code",
      "execution_count": null,
      "metadata": {
        "colab": {
          "base_uri": "https://localhost:8080/"
        },
        "id": "Cj7O6UlHyENs",
        "outputId": "a48bc67c-cbad-4d05-bab1-ac83ff43c4c5"
      },
      "outputs": [],
      "source": [
        "!yolo task=detect mode=predict model=/content/drive/MyDrive/yolov8/training_results/football/weights/best.pt conf=0.77 source=/content/drive/MyDrive/yolov8/vid2"
      ]
    },
    {
      "cell_type": "code",
      "execution_count": null,
      "metadata": {
        "id": "vLoiY90U0nNs"
      },
      "outputs": [],
      "source": [
        "!cp -r /content/runs/detect/predict2 /content/drive/MyDrive/yolov8/output"
      ]
    },
    {
      "cell_type": "code",
      "execution_count": null,
      "metadata": {
        "id": "aiJX4prsf3sA"
      },
      "outputs": [],
      "source": [
        "# !yolo task=detect mode=predict model=/content/drive/MyDrive/yolov8/training_results/football2/weights/best.pt conf=0.5 source=/content/drive/MyDrive/yolov8/videos"
      ]
    },
    {
      "cell_type": "code",
      "execution_count": null,
      "metadata": {
        "id": "pzZaNOnUf3jL"
      },
      "outputs": [],
      "source": [
        "# !cp -r /content/runs/detect/predict3 /content/drive/MyDrive/yolov8/output"
      ]
    },
    {
      "cell_type": "markdown",
      "metadata": {
        "id": "xbiG25BSveB6"
      },
      "source": [
        "## Export the model -- In progress\n",
        "\n",
        "Export a YOLOv8 model to any supported format with the `format` argument, i.e. `format=onnx`.\n",
        "\n",
        "| Format                | `format=...**bold text**` | Model                   |\n",
        "| --------------------- | ------------------------- | ----------------------- |\n",
        "| PyTorch               | -                         | yolov8n.pt              |\n",
        "| TorchScript           | `torchscript`             | yolov8n.torchscript     |\n",
        "| ONNX                  | `onnx`                    | yolov8n.onnx            |\n",
        "| OpenVINO              | `openvino`                | yolov8n_openvino_model/ |\n",
        "| TensorRT              | `engine`                  | yolov8n.engine          |\n",
        "| CoreML                | `coreml`                  | yolov8n.mlmodel         |\n",
        "| TensorFlow SavedModel | `saved_model`             | yolov8n_saved_model/    |\n",
        "| TensorFlow GraphDef   | `pb`                      | yolov8n.pb              |\n",
        "| TensorFlow Lite       | `tflite`                  | yolov8n.tflite          |\n",
        "| TensorFlow Edge TPU   | `edgetpu`                 | yolov8n_edgetpu.tflite  |\n",
        "| TensorFlow.js         | `tfjs`                    | yolov8n_web_model/      |\n",
        "| PaddlePaddle          | `paddle`                  | yolov8n_paddle_model/   |\n"
      ]
    },
    {
      "cell_type": "code",
      "execution_count": null,
      "metadata": {
        "colab": {
          "base_uri": "https://localhost:8080/"
        },
        "id": "eA_r1BCfsTdP",
        "outputId": "be4bcfa4-c51d-4681-f96c-164888b266a3"
      },
      "outputs": [],
      "source": [
        "!yolo mode=export model=/content/drive/MyDrive/yolov8/training_results/football2/weights/best.pt format=onnx"
      ]
    },
    {
      "cell_type": "code",
      "execution_count": null,
      "metadata": {
        "id": "iWT4w4nIwDWU"
      },
      "outputs": [],
      "source": []
    }
  ],
  "metadata": {
    "accelerator": "GPU",
    "colab": {
      "collapsed_sections": [
        "kvJXfYgTfsBP"
      ],
      "provenance": []
    },
    "gpuClass": "standard",
    "kernelspec": {
      "display_name": "Python 3",
      "name": "python3"
    },
    "language_info": {
      "codemirror_mode": {
        "name": "ipython",
        "version": 3
      },
      "file_extension": ".py",
      "mimetype": "text/x-python",
      "name": "python",
      "nbconvert_exporter": "python",
      "pygments_lexer": "ipython3",
      "version": "3.11.4"
    },
    "widgets": {
      "application/vnd.jupyter.widget-state+json": {
        "0a93342ffcbe4165bb0c877ebe21be95": {
          "model_module": "@jupyter-widgets/base",
          "model_module_version": "1.2.0",
          "model_name": "LayoutModel",
          "state": {
            "_model_module": "@jupyter-widgets/base",
            "_model_module_version": "1.2.0",
            "_model_name": "LayoutModel",
            "_view_count": null,
            "_view_module": "@jupyter-widgets/base",
            "_view_module_version": "1.2.0",
            "_view_name": "LayoutView",
            "align_content": null,
            "align_items": null,
            "align_self": null,
            "border": null,
            "bottom": null,
            "display": null,
            "flex": null,
            "flex_flow": null,
            "grid_area": null,
            "grid_auto_columns": null,
            "grid_auto_flow": null,
            "grid_auto_rows": null,
            "grid_column": null,
            "grid_gap": null,
            "grid_row": null,
            "grid_template_areas": null,
            "grid_template_columns": null,
            "grid_template_rows": null,
            "height": null,
            "justify_content": null,
            "justify_items": null,
            "left": null,
            "margin": null,
            "max_height": null,
            "max_width": null,
            "min_height": null,
            "min_width": null,
            "object_fit": null,
            "object_position": null,
            "order": null,
            "overflow": null,
            "overflow_x": null,
            "overflow_y": null,
            "padding": null,
            "right": null,
            "top": null,
            "visibility": null,
            "width": null
          }
        },
        "2902efe0a2b444ea80d94bdee7679ebd": {
          "model_module": "@jupyter-widgets/controls",
          "model_module_version": "1.5.0",
          "model_name": "FloatProgressModel",
          "state": {
            "_dom_classes": [],
            "_model_module": "@jupyter-widgets/controls",
            "_model_module_version": "1.5.0",
            "_model_name": "FloatProgressModel",
            "_view_count": null,
            "_view_module": "@jupyter-widgets/controls",
            "_view_module_version": "1.5.0",
            "_view_name": "ProgressView",
            "bar_style": "success",
            "description": "",
            "description_tooltip": null,
            "layout": "IPY_MODEL_ad2da6e9fad547258e9c4c42ece1a931",
            "max": 24,
            "min": 0,
            "orientation": "horizontal",
            "style": "IPY_MODEL_b2e899109ad848349cc7b6021c318ccd",
            "value": 24
          }
        },
        "40ad9f58a2484a2bb4dc08a160b3798d": {
          "model_module": "@jupyter-widgets/base",
          "model_module_version": "1.2.0",
          "model_name": "LayoutModel",
          "state": {
            "_model_module": "@jupyter-widgets/base",
            "_model_module_version": "1.2.0",
            "_model_name": "LayoutModel",
            "_view_count": null,
            "_view_module": "@jupyter-widgets/base",
            "_view_module_version": "1.2.0",
            "_view_name": "LayoutView",
            "align_content": null,
            "align_items": null,
            "align_self": null,
            "border": null,
            "bottom": null,
            "display": null,
            "flex": null,
            "flex_flow": null,
            "grid_area": null,
            "grid_auto_columns": null,
            "grid_auto_flow": null,
            "grid_auto_rows": null,
            "grid_column": null,
            "grid_gap": null,
            "grid_row": null,
            "grid_template_areas": null,
            "grid_template_columns": null,
            "grid_template_rows": null,
            "height": null,
            "justify_content": null,
            "justify_items": null,
            "left": null,
            "margin": null,
            "max_height": null,
            "max_width": null,
            "min_height": null,
            "min_width": null,
            "object_fit": null,
            "object_position": null,
            "order": null,
            "overflow": null,
            "overflow_x": null,
            "overflow_y": null,
            "padding": null,
            "right": null,
            "top": null,
            "visibility": null,
            "width": null
          }
        },
        "5d8ba823187a4fb7bf30b1d5600427ed": {
          "model_module": "@jupyter-widgets/base",
          "model_module_version": "1.2.0",
          "model_name": "LayoutModel",
          "state": {
            "_model_module": "@jupyter-widgets/base",
            "_model_module_version": "1.2.0",
            "_model_name": "LayoutModel",
            "_view_count": null,
            "_view_module": "@jupyter-widgets/base",
            "_view_module_version": "1.2.0",
            "_view_name": "LayoutView",
            "align_content": null,
            "align_items": null,
            "align_self": null,
            "border": null,
            "bottom": null,
            "display": null,
            "flex": null,
            "flex_flow": null,
            "grid_area": null,
            "grid_auto_columns": null,
            "grid_auto_flow": null,
            "grid_auto_rows": null,
            "grid_column": null,
            "grid_gap": null,
            "grid_row": null,
            "grid_template_areas": null,
            "grid_template_columns": null,
            "grid_template_rows": null,
            "height": null,
            "justify_content": null,
            "justify_items": null,
            "left": null,
            "margin": null,
            "max_height": null,
            "max_width": null,
            "min_height": null,
            "min_width": null,
            "object_fit": null,
            "object_position": null,
            "order": null,
            "overflow": null,
            "overflow_x": null,
            "overflow_y": null,
            "padding": null,
            "right": null,
            "top": null,
            "visibility": null,
            "width": null
          }
        },
        "68032b6b2c23415f9ef24bcb88e830f5": {
          "model_module": "@jupyter-widgets/base",
          "model_module_version": "1.2.0",
          "model_name": "LayoutModel",
          "state": {
            "_model_module": "@jupyter-widgets/base",
            "_model_module_version": "1.2.0",
            "_model_name": "LayoutModel",
            "_view_count": null,
            "_view_module": "@jupyter-widgets/base",
            "_view_module_version": "1.2.0",
            "_view_name": "LayoutView",
            "align_content": null,
            "align_items": null,
            "align_self": null,
            "border": null,
            "bottom": null,
            "display": null,
            "flex": null,
            "flex_flow": null,
            "grid_area": null,
            "grid_auto_columns": null,
            "grid_auto_flow": null,
            "grid_auto_rows": null,
            "grid_column": null,
            "grid_gap": null,
            "grid_row": null,
            "grid_template_areas": null,
            "grid_template_columns": null,
            "grid_template_rows": null,
            "height": null,
            "justify_content": null,
            "justify_items": null,
            "left": null,
            "margin": null,
            "max_height": null,
            "max_width": null,
            "min_height": null,
            "min_width": null,
            "object_fit": null,
            "object_position": null,
            "order": null,
            "overflow": null,
            "overflow_x": null,
            "overflow_y": null,
            "padding": null,
            "right": null,
            "top": null,
            "visibility": null,
            "width": null
          }
        },
        "70e426ffb395402ebd54a61dfcfc84c0": {
          "model_module": "@jupyter-widgets/base",
          "model_module_version": "1.2.0",
          "model_name": "LayoutModel",
          "state": {
            "_model_module": "@jupyter-widgets/base",
            "_model_module_version": "1.2.0",
            "_model_name": "LayoutModel",
            "_view_count": null,
            "_view_module": "@jupyter-widgets/base",
            "_view_module_version": "1.2.0",
            "_view_name": "LayoutView",
            "align_content": null,
            "align_items": null,
            "align_self": null,
            "border": null,
            "bottom": null,
            "display": null,
            "flex": null,
            "flex_flow": null,
            "grid_area": null,
            "grid_auto_columns": null,
            "grid_auto_flow": null,
            "grid_auto_rows": null,
            "grid_column": null,
            "grid_gap": null,
            "grid_row": null,
            "grid_template_areas": null,
            "grid_template_columns": null,
            "grid_template_rows": null,
            "height": null,
            "justify_content": null,
            "justify_items": null,
            "left": null,
            "margin": null,
            "max_height": null,
            "max_width": null,
            "min_height": null,
            "min_width": null,
            "object_fit": null,
            "object_position": null,
            "order": null,
            "overflow": null,
            "overflow_x": null,
            "overflow_y": null,
            "padding": null,
            "right": null,
            "top": null,
            "visibility": null,
            "width": null
          }
        },
        "8c05b31f6183473ba0359f381f005e3b": {
          "model_module": "@jupyter-widgets/base",
          "model_module_version": "1.2.0",
          "model_name": "LayoutModel",
          "state": {
            "_model_module": "@jupyter-widgets/base",
            "_model_module_version": "1.2.0",
            "_model_name": "LayoutModel",
            "_view_count": null,
            "_view_module": "@jupyter-widgets/base",
            "_view_module_version": "1.2.0",
            "_view_name": "LayoutView",
            "align_content": null,
            "align_items": null,
            "align_self": null,
            "border": null,
            "bottom": null,
            "display": null,
            "flex": null,
            "flex_flow": null,
            "grid_area": null,
            "grid_auto_columns": null,
            "grid_auto_flow": null,
            "grid_auto_rows": null,
            "grid_column": null,
            "grid_gap": null,
            "grid_row": null,
            "grid_template_areas": null,
            "grid_template_columns": null,
            "grid_template_rows": null,
            "height": null,
            "justify_content": null,
            "justify_items": null,
            "left": null,
            "margin": null,
            "max_height": null,
            "max_width": null,
            "min_height": null,
            "min_width": null,
            "object_fit": null,
            "object_position": null,
            "order": null,
            "overflow": null,
            "overflow_x": null,
            "overflow_y": null,
            "padding": null,
            "right": null,
            "top": null,
            "visibility": null,
            "width": null
          }
        },
        "98bfacd3cba549b8b4649149427b6fa5": {
          "model_module": "@jupyter-widgets/base",
          "model_module_version": "1.2.0",
          "model_name": "LayoutModel",
          "state": {
            "_model_module": "@jupyter-widgets/base",
            "_model_module_version": "1.2.0",
            "_model_name": "LayoutModel",
            "_view_count": null,
            "_view_module": "@jupyter-widgets/base",
            "_view_module_version": "1.2.0",
            "_view_name": "LayoutView",
            "align_content": null,
            "align_items": null,
            "align_self": null,
            "border": null,
            "bottom": null,
            "display": null,
            "flex": null,
            "flex_flow": null,
            "grid_area": null,
            "grid_auto_columns": null,
            "grid_auto_flow": null,
            "grid_auto_rows": null,
            "grid_column": null,
            "grid_gap": null,
            "grid_row": null,
            "grid_template_areas": null,
            "grid_template_columns": null,
            "grid_template_rows": null,
            "height": null,
            "justify_content": null,
            "justify_items": null,
            "left": null,
            "margin": null,
            "max_height": null,
            "max_width": null,
            "min_height": null,
            "min_width": null,
            "object_fit": null,
            "object_position": null,
            "order": null,
            "overflow": null,
            "overflow_x": null,
            "overflow_y": null,
            "padding": null,
            "right": null,
            "top": null,
            "visibility": null,
            "width": null
          }
        },
        "9c1c7452c51549e0b628a9384bf8fb70": {
          "model_module": "@jupyter-widgets/controls",
          "model_module_version": "1.5.0",
          "model_name": "HTMLModel",
          "state": {
            "_dom_classes": [],
            "_model_module": "@jupyter-widgets/controls",
            "_model_module_version": "1.5.0",
            "_model_name": "HTMLModel",
            "_view_count": null,
            "_view_module": "@jupyter-widgets/controls",
            "_view_module_version": "1.5.0",
            "_view_name": "HTMLView",
            "description": "",
            "description_tooltip": null,
            "layout": "IPY_MODEL_0a93342ffcbe4165bb0c877ebe21be95",
            "placeholder": "​",
            "style": "IPY_MODEL_aa36cc1b3c5b4b73b301231021dbe433",
            "value": " 99/99 [00:03&lt;00:00, 53.95it/s]"
          }
        },
        "9cbe155f6f7c46998a18f19548f82699": {
          "model_module": "@jupyter-widgets/controls",
          "model_module_version": "1.5.0",
          "model_name": "DescriptionStyleModel",
          "state": {
            "_model_module": "@jupyter-widgets/controls",
            "_model_module_version": "1.5.0",
            "_model_name": "DescriptionStyleModel",
            "_view_count": null,
            "_view_module": "@jupyter-widgets/base",
            "_view_module_version": "1.2.0",
            "_view_name": "StyleView",
            "description_width": ""
          }
        },
        "aa36cc1b3c5b4b73b301231021dbe433": {
          "model_module": "@jupyter-widgets/controls",
          "model_module_version": "1.5.0",
          "model_name": "DescriptionStyleModel",
          "state": {
            "_model_module": "@jupyter-widgets/controls",
            "_model_module_version": "1.5.0",
            "_model_name": "DescriptionStyleModel",
            "_view_count": null,
            "_view_module": "@jupyter-widgets/base",
            "_view_module_version": "1.2.0",
            "_view_name": "StyleView",
            "description_width": ""
          }
        },
        "ad2da6e9fad547258e9c4c42ece1a931": {
          "model_module": "@jupyter-widgets/base",
          "model_module_version": "1.2.0",
          "model_name": "LayoutModel",
          "state": {
            "_model_module": "@jupyter-widgets/base",
            "_model_module_version": "1.2.0",
            "_model_name": "LayoutModel",
            "_view_count": null,
            "_view_module": "@jupyter-widgets/base",
            "_view_module_version": "1.2.0",
            "_view_name": "LayoutView",
            "align_content": null,
            "align_items": null,
            "align_self": null,
            "border": null,
            "bottom": null,
            "display": null,
            "flex": null,
            "flex_flow": null,
            "grid_area": null,
            "grid_auto_columns": null,
            "grid_auto_flow": null,
            "grid_auto_rows": null,
            "grid_column": null,
            "grid_gap": null,
            "grid_row": null,
            "grid_template_areas": null,
            "grid_template_columns": null,
            "grid_template_rows": null,
            "height": null,
            "justify_content": null,
            "justify_items": null,
            "left": null,
            "margin": null,
            "max_height": null,
            "max_width": null,
            "min_height": null,
            "min_width": null,
            "object_fit": null,
            "object_position": null,
            "order": null,
            "overflow": null,
            "overflow_x": null,
            "overflow_y": null,
            "padding": null,
            "right": null,
            "top": null,
            "visibility": null,
            "width": null
          }
        },
        "ad93ed404c5547829bd76b0719c13e1a": {
          "model_module": "@jupyter-widgets/controls",
          "model_module_version": "1.5.0",
          "model_name": "HBoxModel",
          "state": {
            "_dom_classes": [],
            "_model_module": "@jupyter-widgets/controls",
            "_model_module_version": "1.5.0",
            "_model_name": "HBoxModel",
            "_view_count": null,
            "_view_module": "@jupyter-widgets/controls",
            "_view_module_version": "1.5.0",
            "_view_name": "HBoxView",
            "box_style": "",
            "children": [
              "IPY_MODEL_c23655c8106f4dadb965d51e9aabbf82",
              "IPY_MODEL_2902efe0a2b444ea80d94bdee7679ebd",
              "IPY_MODEL_f67ee2ce7de544ffac158d2374dd4341"
            ],
            "layout": "IPY_MODEL_70e426ffb395402ebd54a61dfcfc84c0"
          }
        },
        "b2e899109ad848349cc7b6021c318ccd": {
          "model_module": "@jupyter-widgets/controls",
          "model_module_version": "1.5.0",
          "model_name": "ProgressStyleModel",
          "state": {
            "_model_module": "@jupyter-widgets/controls",
            "_model_module_version": "1.5.0",
            "_model_name": "ProgressStyleModel",
            "_view_count": null,
            "_view_module": "@jupyter-widgets/base",
            "_view_module_version": "1.2.0",
            "_view_name": "StyleView",
            "bar_color": null,
            "description_width": ""
          }
        },
        "c23655c8106f4dadb965d51e9aabbf82": {
          "model_module": "@jupyter-widgets/controls",
          "model_module_version": "1.5.0",
          "model_name": "HTMLModel",
          "state": {
            "_dom_classes": [],
            "_model_module": "@jupyter-widgets/controls",
            "_model_module_version": "1.5.0",
            "_model_name": "HTMLModel",
            "_view_count": null,
            "_view_module": "@jupyter-widgets/controls",
            "_view_module_version": "1.5.0",
            "_view_name": "HTMLView",
            "description": "",
            "description_tooltip": null,
            "layout": "IPY_MODEL_5d8ba823187a4fb7bf30b1d5600427ed",
            "placeholder": "​",
            "style": "IPY_MODEL_f038e2324de24e808a66a8bcfac38938",
            "value": "100%"
          }
        },
        "c38599454bbf46c284d2178c2b68ceae": {
          "model_module": "@jupyter-widgets/controls",
          "model_module_version": "1.5.0",
          "model_name": "HBoxModel",
          "state": {
            "_dom_classes": [],
            "_model_module": "@jupyter-widgets/controls",
            "_model_module_version": "1.5.0",
            "_model_name": "HBoxModel",
            "_view_count": null,
            "_view_module": "@jupyter-widgets/controls",
            "_view_module_version": "1.5.0",
            "_view_name": "HBoxView",
            "box_style": "",
            "children": [
              "IPY_MODEL_d8c66eb856f14b739e20674e13e875f6",
              "IPY_MODEL_d46aa2324a294f87af12554782930b61",
              "IPY_MODEL_9c1c7452c51549e0b628a9384bf8fb70"
            ],
            "layout": "IPY_MODEL_68032b6b2c23415f9ef24bcb88e830f5"
          }
        },
        "c7c806f71b57436a896584369ef4cd04": {
          "model_module": "@jupyter-widgets/controls",
          "model_module_version": "1.5.0",
          "model_name": "DescriptionStyleModel",
          "state": {
            "_model_module": "@jupyter-widgets/controls",
            "_model_module_version": "1.5.0",
            "_model_name": "DescriptionStyleModel",
            "_view_count": null,
            "_view_module": "@jupyter-widgets/base",
            "_view_module_version": "1.2.0",
            "_view_name": "StyleView",
            "description_width": ""
          }
        },
        "d46aa2324a294f87af12554782930b61": {
          "model_module": "@jupyter-widgets/controls",
          "model_module_version": "1.5.0",
          "model_name": "FloatProgressModel",
          "state": {
            "_dom_classes": [],
            "_model_module": "@jupyter-widgets/controls",
            "_model_module_version": "1.5.0",
            "_model_name": "FloatProgressModel",
            "_view_count": null,
            "_view_module": "@jupyter-widgets/controls",
            "_view_module_version": "1.5.0",
            "_view_name": "ProgressView",
            "bar_style": "success",
            "description": "",
            "description_tooltip": null,
            "layout": "IPY_MODEL_98bfacd3cba549b8b4649149427b6fa5",
            "max": 99,
            "min": 0,
            "orientation": "horizontal",
            "style": "IPY_MODEL_ef1344eba2a747efb4b0f7a2a9de0c5a",
            "value": 99
          }
        },
        "d8c66eb856f14b739e20674e13e875f6": {
          "model_module": "@jupyter-widgets/controls",
          "model_module_version": "1.5.0",
          "model_name": "HTMLModel",
          "state": {
            "_dom_classes": [],
            "_model_module": "@jupyter-widgets/controls",
            "_model_module_version": "1.5.0",
            "_model_name": "HTMLModel",
            "_view_count": null,
            "_view_module": "@jupyter-widgets/controls",
            "_view_module_version": "1.5.0",
            "_view_name": "HTMLView",
            "description": "",
            "description_tooltip": null,
            "layout": "IPY_MODEL_40ad9f58a2484a2bb4dc08a160b3798d",
            "placeholder": "​",
            "style": "IPY_MODEL_c7c806f71b57436a896584369ef4cd04",
            "value": "100%"
          }
        },
        "ef1344eba2a747efb4b0f7a2a9de0c5a": {
          "model_module": "@jupyter-widgets/controls",
          "model_module_version": "1.5.0",
          "model_name": "ProgressStyleModel",
          "state": {
            "_model_module": "@jupyter-widgets/controls",
            "_model_module_version": "1.5.0",
            "_model_name": "ProgressStyleModel",
            "_view_count": null,
            "_view_module": "@jupyter-widgets/base",
            "_view_module_version": "1.2.0",
            "_view_name": "StyleView",
            "bar_color": null,
            "description_width": ""
          }
        },
        "f038e2324de24e808a66a8bcfac38938": {
          "model_module": "@jupyter-widgets/controls",
          "model_module_version": "1.5.0",
          "model_name": "DescriptionStyleModel",
          "state": {
            "_model_module": "@jupyter-widgets/controls",
            "_model_module_version": "1.5.0",
            "_model_name": "DescriptionStyleModel",
            "_view_count": null,
            "_view_module": "@jupyter-widgets/base",
            "_view_module_version": "1.2.0",
            "_view_name": "StyleView",
            "description_width": ""
          }
        },
        "f67ee2ce7de544ffac158d2374dd4341": {
          "model_module": "@jupyter-widgets/controls",
          "model_module_version": "1.5.0",
          "model_name": "HTMLModel",
          "state": {
            "_dom_classes": [],
            "_model_module": "@jupyter-widgets/controls",
            "_model_module_version": "1.5.0",
            "_model_name": "HTMLModel",
            "_view_count": null,
            "_view_module": "@jupyter-widgets/controls",
            "_view_module_version": "1.5.0",
            "_view_name": "HTMLView",
            "description": "",
            "description_tooltip": null,
            "layout": "IPY_MODEL_8c05b31f6183473ba0359f381f005e3b",
            "placeholder": "​",
            "style": "IPY_MODEL_9cbe155f6f7c46998a18f19548f82699",
            "value": " 24/24 [00:00&lt;00:00, 77.44it/s]"
          }
        }
      }
    }
  },
  "nbformat": 4,
  "nbformat_minor": 0
}
